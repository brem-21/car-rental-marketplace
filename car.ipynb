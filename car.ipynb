{
  "cells": [
    {
      "cell_type": "code",
      "execution_count": 1,
      "metadata": {
        "colab": {
          "base_uri": "https://localhost:8080/"
        },
        "id": "5l12yKP8IZ8o",
        "outputId": "1afe7eed-d410-469e-8712-bbf41dead5f1"
      },
      "outputs": [
        {
          "name": "stdout",
          "output_type": "stream",
          "text": [
            "Requirement already satisfied: pyspark in ./venv/lib/python3.12/site-packages (3.5.5)\n",
            "Requirement already satisfied: py4j==0.10.9.7 in ./venv/lib/python3.12/site-packages (from pyspark) (0.10.9.7)\n",
            "Note: you may need to restart the kernel to use updated packages.\n"
          ]
        }
      ],
      "source": [
        "pip install pyspark"
      ]
    },
    {
      "cell_type": "code",
      "execution_count": 2,
      "metadata": {
        "id": "1ze8tTPvI7qt"
      },
      "outputs": [
        {
          "name": "stderr",
          "output_type": "stream",
          "text": [
            "25/04/04 10:41:02 WARN Utils: Your hostname, brempong-HP-EliteBook-840-G7-Notebook-PC resolves to a loopback address: 127.0.1.1; using 192.168.36.43 instead (on interface wlp0s20f3)\n",
            "25/04/04 10:41:02 WARN Utils: Set SPARK_LOCAL_IP if you need to bind to another address\n",
            "Setting default log level to \"WARN\".\n",
            "To adjust logging level use sc.setLogLevel(newLevel). For SparkR, use setLogLevel(newLevel).\n",
            "25/04/04 10:41:03 WARN NativeCodeLoader: Unable to load native-hadoop library for your platform... using builtin-java classes where applicable\n"
          ]
        }
      ],
      "source": [
        "from pyspark.sql import SparkSession\n",
        "spark = SparkSession.builder.appName('pyspark_test').getOrCreate()\n",
        "spark\n",
        "from pyspark.sql.functions import *"
      ]
    },
    {
      "cell_type": "code",
      "execution_count": 3,
      "metadata": {},
      "outputs": [
        {
          "data": {
            "text/html": [
              "\n",
              "            <div>\n",
              "                <p><b>SparkSession - in-memory</b></p>\n",
              "                \n",
              "        <div>\n",
              "            <p><b>SparkContext</b></p>\n",
              "\n",
              "            <p><a href=\"http://192.168.36.43:4040\">Spark UI</a></p>\n",
              "\n",
              "            <dl>\n",
              "              <dt>Version</dt>\n",
              "                <dd><code>v3.5.5</code></dd>\n",
              "              <dt>Master</dt>\n",
              "                <dd><code>local[*]</code></dd>\n",
              "              <dt>AppName</dt>\n",
              "                <dd><code>pyspark_test</code></dd>\n",
              "            </dl>\n",
              "        </div>\n",
              "        \n",
              "            </div>\n",
              "        "
            ],
            "text/plain": [
              "<pyspark.sql.session.SparkSession at 0x70103b5ab920>"
            ]
          },
          "execution_count": 3,
          "metadata": {},
          "output_type": "execute_result"
        }
      ],
      "source": [
        "spark"
      ]
    },
    {
      "cell_type": "markdown",
      "metadata": {
        "id": "6Cs4H_9AehTM"
      },
      "source": [
        "# USER AND TRANSACTIONS METRICS\n"
      ]
    },
    {
      "cell_type": "code",
      "execution_count": 4,
      "metadata": {
        "colab": {
          "base_uri": "https://localhost:8080/"
        },
        "id": "K6o3IuhlJGeh",
        "outputId": "b3ef224e-c5fe-4c8f-b29c-62c2fadf6cc3"
      },
      "outputs": [
        {
          "name": "stdout",
          "output_type": "stream",
          "text": [
            "+-----------+--------------------+--------------------+---------+-----+--------+-----------+----------+\n",
            "|location_id|       location_name|             address|     city|state|zip_code|   latitude| longitude|\n",
            "+-----------+--------------------+--------------------+---------+-----+--------+-----------+----------+\n",
            "|       2702|Jackson, Velazque...|3140 Heath Radial...|  Modesto|   CA|   94540|   86.25802| -169.2448|\n",
            "|       4380|            Bean LLC|51144 Patrick Isl...|  Fontana|   CA|   92188|-74.4558925|-42.279882|\n",
            "|       7709|     Gilbert-Simmons|    4738 Lewis Locks|Roseville|   CA|   91032|-65.4309305|-64.763489|\n",
            "|       8607|    Coleman-Robinson|  324 Robin Causeway|  Modesto|   CA|   93714| -64.281076|-77.669631|\n",
            "|       5499|        Deleon Group|    51725 Evans View|Roseville|   CA|   91849| 18.4951575|-154.76578|\n",
            "+-----------+--------------------+--------------------+---------+-----+--------+-----------+----------+\n",
            "only showing top 5 rows\n",
            "\n"
          ]
        }
      ],
      "source": [
        "locations = spark.read.csv('data/locations.csv',inferSchema=True, header=True)\n",
        "locations.show(5)"
      ]
    },
    {
      "cell_type": "code",
      "execution_count": 5,
      "metadata": {
        "colab": {
          "base_uri": "https://localhost:8080/"
        },
        "id": "9tbgNyU6JpOl",
        "outputId": "3fbe2910-6b61-442c-ccac-bb4e5dcadf2c"
      },
      "outputs": [
        {
          "name": "stderr",
          "output_type": "stream",
          "text": [
            "                                                                                \r"
          ]
        },
        {
          "name": "stdout",
          "output_type": "stream",
          "text": [
            "+----------+----------+---------+--------------------+------------------+---------------------+---------------------+-------------+---------+\n",
            "|   user_id|first_name|last_name|               email|      phone_number|driver_license_number|driver_license_expiry|creation_date|is_active|\n",
            "+----------+----------+---------+--------------------+------------------+---------------------+---------------------+-------------+---------+\n",
            "|26d08ab733|      Lisa|   Parker|lisa.parker@gmail...|334.271.2972x60554|             MO028963|           2033-06-21|   2024-05-26|        1|\n",
            "|0a0430e6f9|  Courtney|   Martin|courtney.martin@y...|  826-262-0518x252|             VW966518|           2028-09-28|   2024-05-22|        0|\n",
            "|eb5d10cccd|    Andrew|  Mcclain|andrew.mcclain@ho...|   +1-467-858-1702|             WL839491|           2028-09-01|   2024-01-29|        1|\n",
            "|2a59127ee0|   Michael|   Hoover|michael.hoover@ya...|  001-220-342-6250|             UI603163|           2028-11-29|   2024-03-22|        1|\n",
            "|e3a46a2a11|     Molly|   Brooks|molly.brooks@yaho...|   +1-595-498-7645|             BJ158232|           2025-01-24|   2024-03-02|        1|\n",
            "+----------+----------+---------+--------------------+------------------+---------------------+---------------------+-------------+---------+\n",
            "only showing top 5 rows\n",
            "\n"
          ]
        }
      ],
      "source": [
        "users = spark.read.csv('data/users.csv',inferSchema=True, header=True)\n",
        "users.show(5)\n"
      ]
    },
    {
      "cell_type": "code",
      "execution_count": 6,
      "metadata": {
        "colab": {
          "base_uri": "https://localhost:8080/"
        },
        "id": "7MOSw0PPJtUA",
        "outputId": "22207cea-6f0f-42a2-c8f8-de6e9673064c"
      },
      "outputs": [
        {
          "name": "stderr",
          "output_type": "stream",
          "text": [
            "                                                                                \r"
          ]
        },
        {
          "name": "stdout",
          "output_type": "stream",
          "text": [
            "+------+----------------------+--------------------+----------------+---------------+---------------------+------------------+------------+---------------------+--------------------+----------+---------------------+---------+------------+\n",
            "|active|vehicle_license_number|   registration_name|    license_type|expiration_date|permit_license_number|certification_date|vehicle_year|base_telephone_number|        base_address|vehicle_id|last_update_timestamp|    brand|vehicle_type|\n",
            "+------+----------------------+--------------------+----------------+---------------+---------------------+------------------+------------+---------------------+--------------------+----------+---------------------+---------+------------+\n",
            "|     1|               5818886|CITY,LIVERY,LEASI...|FOR HIRE VEHICLE|     27-09-2025|             6EPABCVK|        2018-01-09|        2018|        (646)780-0129|1515 THIRD STREET...|67789f742d|  04-06-2024 13:25:00|  Ferrari|    high_end|\n",
            "|     1|               5520432|    FERNANDEZ,JOSE,A|FOR HIRE VEHICLE|     08-01-2026|             IC0VQ8EC|        2015-01-21|        2015|        (646)780-0129|1515 THIRD STREET...|70e8c42e4f|  04-06-2024 13:25:00|      BMW|     premium|\n",
            "|     1|               5790608| RIGO,LIMO-AUTO,CORP|FOR HIRE VEHICLE|     19-06-2025|             AGTGT62I|        2020-03-31|        2020|        (646)780-0129|1515 THIRD STREET...|aa2522d199|  04-06-2024 13:25:00|   Toyota|       basic|\n",
            "|     1|               6045671|    NARZIEV,LAZIZJON|FOR HIRE VEHICLE|     22-11-2025|             OO9QLG6E|        2022-11-09|        2022|        (646)780-0129|1515 THIRD STREET...|0984531ace|  04-06-2024 13:25:00|Chevrolet|       basic|\n",
            "|     1|               6022074|         YAQOOB,SAAD|FOR HIRE VEHICLE|     05-04-2025|             3U109JZC|        2018-11-29|        2018|        (646)780-0129|1515 THIRD STREET...|1ee2538be7|  04-06-2024 13:25:00|    Tesla|    high_end|\n",
            "+------+----------------------+--------------------+----------------+---------------+---------------------+------------------+------------+---------------------+--------------------+----------+---------------------+---------+------------+\n",
            "only showing top 5 rows\n",
            "\n"
          ]
        }
      ],
      "source": [
        "vehicles = spark.read.csv('data/vehicles.csv',inferSchema=True, header=True)\n",
        "vehicles.show(5)"
      ]
    },
    {
      "cell_type": "code",
      "execution_count": 7,
      "metadata": {
        "colab": {
          "base_uri": "https://localhost:8080/"
        },
        "id": "wd8KzZuDJvnC",
        "outputId": "5ecf0a9d-9bb7-4471-853d-cc22cd074177"
      },
      "outputs": [
        {
          "name": "stdout",
          "output_type": "stream",
          "text": [
            "+----------+----------+----------+-------------------+-------------------+---------------+----------------+------------+\n",
            "| rental_id|   user_id|vehicle_id|  rental_start_time|    rental_end_time|pickup_location|dropoff_location|total_amount|\n",
            "+----------+----------+----------+-------------------+-------------------+---------------+----------------+------------+\n",
            "|b139d8e1b2|320be8068b|0d52304987|2024-02-28 08:05:00|2024-03-01 05:05:00|           1497|            6785|       450.0|\n",
            "|7afd60f6d3|320be8068b|975d72985c|2024-01-07 20:16:00|2024-01-09 21:16:00|           5345|            2608|      2450.0|\n",
            "|733a9361bc|8f31b734a6|0d9f0f0fb9|2024-01-07 09:36:00|2024-01-07 17:36:00|           2546|            5442|        80.0|\n",
            "|6e546b69dd|8f31b734a6|967fdab45e|2024-01-05 11:30:00|2024-01-07 04:30:00|           8147|            4380|      2050.0|\n",
            "|acc192b64a|8f31b734a6|32d58ea4b7|2024-03-06 18:19:00|2024-03-09 14:19:00|           6290|            8932|      1360.0|\n",
            "+----------+----------+----------+-------------------+-------------------+---------------+----------------+------------+\n",
            "only showing top 5 rows\n",
            "\n"
          ]
        }
      ],
      "source": [
        "rental = spark.read.csv('data/rental_transactions.csv',inferSchema=True, header=True)\n",
        "rental.show(5)"
      ]
    },
    {
      "cell_type": "code",
      "execution_count": 8,
      "metadata": {
        "colab": {
          "base_uri": "https://localhost:8080/"
        },
        "id": "VGMnOo_OJ1rU",
        "outputId": "4c4458c8-837c-4fd8-f64a-47e3a7d0fc6b"
      },
      "outputs": [
        {
          "name": "stdout",
          "output_type": "stream",
          "text": [
            "root\n",
            " |-- rental_id: string (nullable = true)\n",
            " |-- user_id: string (nullable = true)\n",
            " |-- vehicle_id: string (nullable = true)\n",
            " |-- rental_start_time: timestamp (nullable = true)\n",
            " |-- rental_end_time: timestamp (nullable = true)\n",
            " |-- pickup_location: integer (nullable = true)\n",
            " |-- dropoff_location: integer (nullable = true)\n",
            " |-- total_amount: double (nullable = true)\n",
            "\n",
            "root\n",
            " |-- location_id: integer (nullable = true)\n",
            " |-- location_name: string (nullable = true)\n",
            " |-- address: string (nullable = true)\n",
            " |-- city: string (nullable = true)\n",
            " |-- state: string (nullable = true)\n",
            " |-- zip_code: integer (nullable = true)\n",
            " |-- latitude: double (nullable = true)\n",
            " |-- longitude: double (nullable = true)\n",
            "\n",
            "root\n",
            " |-- user_id: string (nullable = true)\n",
            " |-- first_name: string (nullable = true)\n",
            " |-- last_name: string (nullable = true)\n",
            " |-- email: string (nullable = true)\n",
            " |-- phone_number: string (nullable = true)\n",
            " |-- driver_license_number: string (nullable = true)\n",
            " |-- driver_license_expiry: date (nullable = true)\n",
            " |-- creation_date: date (nullable = true)\n",
            " |-- is_active: integer (nullable = true)\n",
            "\n",
            "root\n",
            " |-- active: integer (nullable = true)\n",
            " |-- vehicle_license_number: string (nullable = true)\n",
            " |-- registration_name: string (nullable = true)\n",
            " |-- license_type: string (nullable = true)\n",
            " |-- expiration_date: string (nullable = true)\n",
            " |-- permit_license_number: string (nullable = true)\n",
            " |-- certification_date: date (nullable = true)\n",
            " |-- vehicle_year: integer (nullable = true)\n",
            " |-- base_telephone_number: string (nullable = true)\n",
            " |-- base_address: string (nullable = true)\n",
            " |-- vehicle_id: string (nullable = true)\n",
            " |-- last_update_timestamp: string (nullable = true)\n",
            " |-- brand: string (nullable = true)\n",
            " |-- vehicle_type: string (nullable = true)\n",
            "\n"
          ]
        }
      ],
      "source": [
        "rental.printSchema()\n",
        "locations.printSchema()\n",
        "users.printSchema()\n",
        "vehicles.printSchema()"
      ]
    },
    {
      "cell_type": "code",
      "execution_count": 9,
      "metadata": {
        "colab": {
          "base_uri": "https://localhost:8080/"
        },
        "id": "dEJils-OK-U7",
        "outputId": "0b655082-75d9-41ab-f0ca-25258a37d0ae"
      },
      "outputs": [
        {
          "name": "stdout",
          "output_type": "stream",
          "text": [
            "+----------+----------+----------+-------------------+-------------------+---------------+----------------+------------+---------------------+\n",
            "| rental_id|   user_id|vehicle_id|  rental_start_time|    rental_end_time|pickup_location|dropoff_location|total_amount|rental_duration_hours|\n",
            "+----------+----------+----------+-------------------+-------------------+---------------+----------------+------------+---------------------+\n",
            "|b139d8e1b2|320be8068b|0d52304987|2024-02-28 08:05:00|2024-03-01 05:05:00|           1497|            6785|       450.0|                 45.0|\n",
            "|7afd60f6d3|320be8068b|975d72985c|2024-01-07 20:16:00|2024-01-09 21:16:00|           5345|            2608|      2450.0|                 49.0|\n",
            "|733a9361bc|8f31b734a6|0d9f0f0fb9|2024-01-07 09:36:00|2024-01-07 17:36:00|           2546|            5442|        80.0|                  8.0|\n",
            "|6e546b69dd|8f31b734a6|967fdab45e|2024-01-05 11:30:00|2024-01-07 04:30:00|           8147|            4380|      2050.0|                 41.0|\n",
            "|acc192b64a|8f31b734a6|32d58ea4b7|2024-03-06 18:19:00|2024-03-09 14:19:00|           6290|            8932|      1360.0|                 68.0|\n",
            "+----------+----------+----------+-------------------+-------------------+---------------+----------------+------------+---------------------+\n",
            "only showing top 5 rows\n",
            "\n"
          ]
        }
      ],
      "source": [
        "rental = rental.withColumn(\n",
        "    \"rental_duration_hours\",\n",
        "    (col(\"rental_end_time\").cast(\"long\") - col(\"rental_start_time\").cast(\"long\")) / 3600 # Enclose the subtraction within parentheses and divide the result by 3600\n",
        ")\n",
        "rental.show(5)"
      ]
    },
    {
      "cell_type": "code",
      "execution_count": 10,
      "metadata": {
        "colab": {
          "base_uri": "https://localhost:8080/"
        },
        "id": "dnFPlxcjO2zp",
        "outputId": "98e5e002-321e-4563-aaf4-e3c097ece472"
      },
      "outputs": [
        {
          "name": "stdout",
          "output_type": "stream",
          "text": [
            "+----------+----------+---------+--------------------+------------------+---------------------+---------------------+-------------+---------+\n",
            "|   user_id|first_name|last_name|               email|      phone_number|driver_license_number|driver_license_expiry|creation_date|is_active|\n",
            "+----------+----------+---------+--------------------+------------------+---------------------+---------------------+-------------+---------+\n",
            "|26d08ab733|      Lisa|   Parker|lisa.parker@gmail...|334.271.2972x60554|             MO028963|           2033-06-21|   2024-05-26|        1|\n",
            "|0a0430e6f9|  Courtney|   Martin|courtney.martin@y...|  826-262-0518x252|             VW966518|           2028-09-28|   2024-05-22|        0|\n",
            "|eb5d10cccd|    Andrew|  Mcclain|andrew.mcclain@ho...|   +1-467-858-1702|             WL839491|           2028-09-01|   2024-01-29|        1|\n",
            "|2a59127ee0|   Michael|   Hoover|michael.hoover@ya...|  001-220-342-6250|             UI603163|           2028-11-29|   2024-03-22|        1|\n",
            "|e3a46a2a11|     Molly|   Brooks|molly.brooks@yaho...|   +1-595-498-7645|             BJ158232|           2025-01-24|   2024-03-02|        1|\n",
            "+----------+----------+---------+--------------------+------------------+---------------------+---------------------+-------------+---------+\n",
            "only showing top 5 rows\n",
            "\n"
          ]
        }
      ],
      "source": [
        "users.show(5)"
      ]
    },
    {
      "cell_type": "code",
      "execution_count": 11,
      "metadata": {
        "colab": {
          "base_uri": "https://localhost:8080/"
        },
        "id": "uShKlvEiPlAV",
        "outputId": "dfdd2aed-7e25-4540-9cc1-9e96fd63a90f"
      },
      "outputs": [
        {
          "name": "stdout",
          "output_type": "stream",
          "text": [
            "+----------+----------+----------+-------------------+-------------------+---------------+----------------+------------+---------------------+----------+----------+---------+--------------------+------------------+---------------------+---------------------+-------------+---------+\n",
            "| rental_id|   user_id|vehicle_id|  rental_start_time|    rental_end_time|pickup_location|dropoff_location|total_amount|rental_duration_hours|   user_id|first_name|last_name|               email|      phone_number|driver_license_number|driver_license_expiry|creation_date|is_active|\n",
            "+----------+----------+----------+-------------------+-------------------+---------------+----------------+------------+---------------------+----------+----------+---------+--------------------+------------------+---------------------+---------------------+-------------+---------+\n",
            "|a4c0ee86ff|26d08ab733|cebe26ed1b|2024-05-18 10:47:00|2024-05-20 09:47:00|           9352|            1507|       470.0|                 47.0|26d08ab733|      Lisa|   Parker|lisa.parker@gmail...|334.271.2972x60554|             MO028963|           2033-06-21|   2024-05-26|        1|\n",
            "|23a7e86678|26d08ab733|555c2bc528|2024-02-24 21:12:00|2024-02-27 18:12:00|           4856|            1505|       690.0|                 69.0|26d08ab733|      Lisa|   Parker|lisa.parker@gmail...|334.271.2972x60554|             MO028963|           2033-06-21|   2024-05-26|        1|\n",
            "|90c5d6b5c5|eb5d10cccd|424a107e54|2024-04-17 19:32:00|2024-04-19 04:32:00|           3051|            3557|       660.0|                 33.0|eb5d10cccd|    Andrew|  Mcclain|andrew.mcclain@ho...|   +1-467-858-1702|             WL839491|           2028-09-01|   2024-01-29|        1|\n",
            "|9b762faba5|e3a46a2a11|7090bbca47|2024-03-23 02:00:00|2024-03-24 17:00:00|           4516|            5676|       390.0|                 39.0|e3a46a2a11|     Molly|   Brooks|molly.brooks@yaho...|   +1-595-498-7645|             BJ158232|           2025-01-24|   2024-03-02|        1|\n",
            "|75a28384cb|e3a46a2a11|a726078bc9|2024-03-20 18:06:00|2024-03-21 19:06:00|           4449|            9432|       250.0|                 25.0|e3a46a2a11|     Molly|   Brooks|molly.brooks@yaho...|   +1-595-498-7645|             BJ158232|           2025-01-24|   2024-03-02|        1|\n",
            "+----------+----------+----------+-------------------+-------------------+---------------+----------------+------------+---------------------+----------+----------+---------+--------------------+------------------+---------------------+---------------------+-------------+---------+\n",
            "only showing top 5 rows\n",
            "\n"
          ]
        }
      ],
      "source": [
        "user_rental = rental.join(users, rental.user_id == users.user_id, \"inner\")\n",
        "user_rental.show(5)"
      ]
    },
    {
      "cell_type": "code",
      "execution_count": 12,
      "metadata": {
        "colab": {
          "base_uri": "https://localhost:8080/"
        },
        "id": "T8w4Cgh-PvvY",
        "outputId": "d3634bf2-28f3-4025-9854-2b780a2fc0c4"
      },
      "outputs": [
        {
          "name": "stdout",
          "output_type": "stream",
          "text": [
            "+----------------+------------------+-------------+\n",
            "|transaction_date|total_transactions|total_revenue|\n",
            "+----------------+------------------+-------------+\n",
            "|      2024-02-05|               128|     105880.0|\n",
            "|      2024-05-30|               143|     116730.0|\n",
            "|      2024-05-25|               138|     126010.0|\n",
            "|      2024-01-07|               128|      99230.0|\n",
            "|      2024-04-20|               128|     106960.0|\n",
            "+----------------+------------------+-------------+\n",
            "only showing top 5 rows\n",
            "\n"
          ]
        }
      ],
      "source": [
        "daily_transactions_revenue = rental.withColumn(\n",
        "    \"transaction_date\", to_date(\"rental_start_time\")\n",
        ").groupBy(\"transaction_date\").agg(\n",
        "    count(\"rental_id\").alias(\"total_transactions\"),\n",
        "    sum(\"total_amount\").alias(\"total_revenue\")\n",
        ")\n",
        "daily_transactions_revenue.show(5)"
      ]
    },
    {
      "cell_type": "code",
      "execution_count": 13,
      "metadata": {
        "colab": {
          "base_uri": "https://localhost:8080/"
        },
        "id": "nvCUJBEgQS-2",
        "outputId": "92d53cff-e47e-45eb-ca75-464a55d2ad58"
      },
      "outputs": [
        {
          "name": "stdout",
          "output_type": "stream",
          "text": [
            "+-------------------+\n",
            "|average_transaction|\n",
            "+-------------------+\n",
            "|  806.8037848605578|\n",
            "+-------------------+\n",
            "\n"
          ]
        }
      ],
      "source": [
        "avg_transaction = rental.agg(avg(\"total_amount\").alias(\"average_transaction\"))\n",
        "avg_transaction.show(5)"
      ]
    },
    {
      "cell_type": "code",
      "execution_count": 14,
      "metadata": {
        "colab": {
          "base_uri": "https://localhost:8080/"
        },
        "id": "Ryta9LMRQ2T7",
        "outputId": "457eb388-6c59-49c5-fb31-bc66fe581bf9"
      },
      "outputs": [
        {
          "name": "stdout",
          "output_type": "stream",
          "text": [
            "+----------+------------------+-------------+\n",
            "|   user_id|total_transactions|total_revenue|\n",
            "+----------+------------------+-------------+\n",
            "|5144945047|                 3|       1640.0|\n",
            "|0e672a709e|                 2|       1280.0|\n",
            "|a39cfd7ab5|                 1|        510.0|\n",
            "|010ad799a1|                 1|       1440.0|\n",
            "|b31a334b34|                 2|       1470.0|\n",
            "+----------+------------------+-------------+\n",
            "only showing top 5 rows\n",
            "\n"
          ]
        }
      ],
      "source": [
        "user_engagement = rental.groupby(\"user_id\").agg(\n",
        "    count(\"rental_id\").alias(\"total_transactions\"),\n",
        "    sum(\"total_amount\").alias(\"total_revenue\")\n",
        ")\n",
        "\n",
        "user_engagement.show(5)"
      ]
    },
    {
      "cell_type": "code",
      "execution_count": 15,
      "metadata": {
        "colab": {
          "base_uri": "https://localhost:8080/"
        },
        "id": "OCwt3LDyRb3M",
        "outputId": "7e04687d-2ddb-4a19-f85e-1b6330542559"
      },
      "outputs": [
        {
          "name": "stdout",
          "output_type": "stream",
          "text": [
            "+----------+---------+---------+\n",
            "|   user_id|max_spent|min_spent|\n",
            "+----------+---------+---------+\n",
            "|5144945047|    690.0|    400.0|\n",
            "|0e672a709e|    680.0|    600.0|\n",
            "|a39cfd7ab5|    510.0|    510.0|\n",
            "|010ad799a1|   1440.0|   1440.0|\n",
            "|b31a334b34|   1020.0|    450.0|\n",
            "|d8583ddc9e|    460.0|    100.0|\n",
            "|3caefcaa02|   3500.0|   3500.0|\n",
            "|fea0119e06|   3200.0|   3200.0|\n",
            "|5c6f9fec4e|   1180.0|    260.0|\n",
            "|4f8a44e2f4|   1400.0|   1400.0|\n",
            "|a93737c73f|    250.0|    250.0|\n",
            "|c6feed07b9|    450.0|    120.0|\n",
            "|b93679007c|    100.0|    100.0|\n",
            "|879b91b696|   1200.0|   1200.0|\n",
            "|3dc7fa3eb1|    490.0|    360.0|\n",
            "|8b9c9c9595|    720.0|    180.0|\n",
            "|ad77dd3a1c|    750.0|    180.0|\n",
            "|433991741b|     30.0|     30.0|\n",
            "|abc86646a2|    900.0|    340.0|\n",
            "|d601306de9|    550.0|    550.0|\n",
            "+----------+---------+---------+\n",
            "only showing top 20 rows\n",
            "\n"
          ]
        }
      ],
      "source": [
        "user_spending_metrics = rental.groupBy(\"user_id\").agg(\n",
        "    max(\"total_amount\").alias(\"max_spent\"),\n",
        "    min(\"total_amount\").alias(\"min_spent\")\n",
        ")\n",
        "\n",
        "# Show results\n",
        "user_spending_metrics.show()"
      ]
    },
    {
      "cell_type": "code",
      "execution_count": 16,
      "metadata": {
        "colab": {
          "base_uri": "https://localhost:8080/"
        },
        "id": "a-tM5CqORpbe",
        "outputId": "6be3339e-0b4f-4416-d27e-a4fc9997bf89"
      },
      "outputs": [
        {
          "name": "stdout",
          "output_type": "stream",
          "text": [
            "+----------+---------------------------+\n",
            "|   user_id|total_rental_duration_hours|\n",
            "+----------+---------------------------+\n",
            "|5144945047|                      144.0|\n",
            "|0e672a709e|                       80.0|\n",
            "|a39cfd7ab5|                       51.0|\n",
            "|010ad799a1|                       72.0|\n",
            "|b31a334b34|                       96.0|\n",
            "|d8583ddc9e|                       51.0|\n",
            "|3caefcaa02|                       70.0|\n",
            "|fea0119e06|                       64.0|\n",
            "|5c6f9fec4e|                       85.0|\n",
            "|4f8a44e2f4|                       28.0|\n",
            "|a93737c73f|                       25.0|\n",
            "|c6feed07b9|                       15.0|\n",
            "|b93679007c|                        5.0|\n",
            "|879b91b696|                       60.0|\n",
            "|3dc7fa3eb1|                      128.0|\n",
            "|8b9c9c9595|                       54.0|\n",
            "|ad77dd3a1c|                       33.0|\n",
            "|433991741b|                        3.0|\n",
            "|abc86646a2|                       79.0|\n",
            "|d601306de9|                       55.0|\n",
            "+----------+---------------------------+\n",
            "only showing top 20 rows\n",
            "\n"
          ]
        }
      ],
      "source": [
        "total_rental_duration = rental.groupby(\"user_id\").agg(sum(\"rental_duration_hours\").alias(\"total_rental_duration_hours\"))\n",
        "total_rental_duration.show()"
      ]
    },
    {
      "cell_type": "markdown",
      "metadata": {
        "id": "vwzvRbfDemY3"
      },
      "source": [
        "# LOCATION AND VEHICLE PERFORMANCE"
      ]
    },
    {
      "cell_type": "code",
      "execution_count": 17,
      "metadata": {
        "colab": {
          "base_uri": "https://localhost:8080/"
        },
        "id": "BKXF4iLMeq7p",
        "outputId": "0a7d1f1b-5d32-4f09-cb92-e9d03f03300f"
      },
      "outputs": [
        {
          "name": "stdout",
          "output_type": "stream",
          "text": [
            "+----------+----------+----------+-------------------+-------------------+---------------+----------------+------------+---------------------+------+----------------------+--------------------+----------------+---------------+---------------------+------------------+------------+---------------------+--------------------+---------------------+-------+------------+\n",
            "|vehicle_id| rental_id|   user_id|  rental_start_time|    rental_end_time|pickup_location|dropoff_location|total_amount|rental_duration_hours|active|vehicle_license_number|   registration_name|    license_type|expiration_date|permit_license_number|certification_date|vehicle_year|base_telephone_number|        base_address|last_update_timestamp|  brand|vehicle_type|\n",
            "+----------+----------+----------+-------------------+-------------------+---------------+----------------+------------+---------------------+------+----------------------+--------------------+----------------+---------------+---------------------+------------------+------------+---------------------+--------------------+---------------------+-------+------------+\n",
            "|0d9f0f0fb9|733a9361bc|8f31b734a6|2024-01-07 09:36:00|2024-01-07 17:36:00|           2546|            5442|        80.0|                  8.0|     1|               5704289|       HUSSAIN,ALTAF|FOR HIRE VEHICLE|     23-06-2024|             GVFUYP6E|        2020-09-12|        2020|        (646)780-0129|1515 THIRD STREET...|  04-06-2024 13:25:00| Toyota|       basic|\n",
            "|c4b821a7eb|bc6c8fa738|a764243e14|2024-01-07 10:49:00|2024-01-10 07:49:00|           1761|            4591|      3450.0|                 69.0|     1|               5895610|LUX,CREDIT,CONSUL...|FOR HIRE VEHICLE|     29-10-2024|             1R1CBA4Z|        2023-04-04|        2023|        (646)780-0129|1515 THIRD STREET...|  04-06-2024 13:25:00|Porsche|    high_end|\n",
            "|0d52304987|b139d8e1b2|320be8068b|2024-02-28 08:05:00|2024-03-01 05:05:00|           1497|            6785|       450.0|                 45.0|     1|               5895794|   SHAHITHAKURI,ANIL|FOR HIRE VEHICLE|     01-10-2024|             R4JE2Y7S|        2015-04-06|        2015|        (646)780-0129|1515 THIRD STREET...|  04-06-2024 13:25:00| Nissan|       basic|\n",
            "|32d58ea4b7|acc192b64a|8f31b734a6|2024-03-06 18:19:00|2024-03-09 14:19:00|           6290|            8932|      1360.0|                 68.0|     1|               5781197|  BQB AUTO GROUP INC|FOR HIRE VEHICLE|     27-04-2025|             9PQI2QKP|        2018-08-11|        2018|        (646)780-0129|1515 THIRD STREET...|  04-06-2024 13:25:00|    BMW|     premium|\n",
            "|975d72985c|7afd60f6d3|320be8068b|2024-01-07 20:16:00|2024-01-09 21:16:00|           5345|            2608|      2450.0|                 49.0|     1|               6017744|    IBRAGIMOV,BEKZOD|FOR HIRE VEHICLE|     08-02-2025|             4D5VSCKU|        2023-10-16|        2023|        (646)780-0129|1515 THIRD STREET...|  04-06-2024 13:25:00|Porsche|    high_end|\n",
            "+----------+----------+----------+-------------------+-------------------+---------------+----------------+------------+---------------------+------+----------------------+--------------------+----------------+---------------+---------------------+------------------+------------+---------------------+--------------------+---------------------+-------+------------+\n",
            "only showing top 5 rows\n",
            "\n"
          ]
        }
      ],
      "source": [
        "rental_vehicle_df = rental.join(vehicles, \"vehicle_id\", \"left\")\n",
        "rental_vehicle_df.show(5)"
      ]
    },
    {
      "cell_type": "code",
      "execution_count": 18,
      "metadata": {
        "colab": {
          "base_uri": "https://localhost:8080/"
        },
        "id": "TWngcsK9fLWK",
        "outputId": "8752fa99-7acb-4648-c6c5-89cd85b5c74b"
      },
      "outputs": [
        {
          "name": "stderr",
          "output_type": "stream",
          "text": [
            "25/04/04 10:41:20 WARN SparkStringUtils: Truncated the string representation of a plan since it was too large. This behavior can be adjusted by setting 'spark.sql.debug.maxToStringFields'.\n"
          ]
        },
        {
          "name": "stdout",
          "output_type": "stream",
          "text": [
            "+----------+----------+----------+-------------------+-------------------+---------------+----------------+------------+---------------------+------+----------------------+--------------------+----------------+---------------+---------------------+------------------+------------+---------------------+--------------------+---------------------+-------------+------------+-----------+--------------------+--------------------+--------------+-----+--------+-----------+-----------+\n",
            "|vehicle_id| rental_id|   user_id|  rental_start_time|    rental_end_time|pickup_location|dropoff_location|total_amount|rental_duration_hours|active|vehicle_license_number|   registration_name|    license_type|expiration_date|permit_license_number|certification_date|vehicle_year|base_telephone_number|        base_address|last_update_timestamp|        brand|vehicle_type|location_id|       location_name|             address|          city|state|zip_code|   latitude|  longitude|\n",
            "+----------+----------+----------+-------------------+-------------------+---------------+----------------+------------+---------------------+------+----------------------+--------------------+----------------+---------------+---------------------+------------------+------------+---------------------+--------------------+---------------------+-------------+------------+-----------+--------------------+--------------------+--------------+-----+--------+-----------+-----------+\n",
            "|9ab9a0e6c8|412400edf0|d1eec018e1|2024-04-17 20:08:00|2024-04-17 21:08:00|           3854|            7660|        50.0|                  1.0|     1|               5627740|    ELAOUNI,MOHAMMED|FOR HIRE VEHICLE|     09-07-2025|             ZTQU8IHQ|        2016-03-05|        2016|        (646)780-0129|1515 THIRD STREET...|  04-06-2024 13:25:00|      Porsche|    high_end|       3854|Stephens, Mckee a...|45378 Wells Ports...|       Concord|   CA|   92071|  40.611904|   1.012244|\n",
            "|0d9f0f0fb9|733a9361bc|8f31b734a6|2024-01-07 09:36:00|2024-01-07 17:36:00|           2546|            5442|        80.0|                  8.0|     1|               5704289|       HUSSAIN,ALTAF|FOR HIRE VEHICLE|     23-06-2024|             GVFUYP6E|        2020-09-12|        2020|        (646)780-0129|1515 THIRD STREET...|  04-06-2024 13:25:00|       Toyota|       basic|       2546|      Davis and Sons|     499 Kelly Burgs|San Bernardino|   CA|   95602|  -9.902929| -37.714221|\n",
            "|8443635c7a|97bdcd04eb|02bd398e38|2024-02-23 01:23:00|2024-02-25 14:23:00|           2034|            3311|      3050.0|                 61.0|     1|               5663257|       MIAN,SAJJAD,A|FOR HIRE VEHICLE|     02-12-2025|             KVI766XE|        2023-12-23|        2023|        (646)780-0129|1515 THIRD STREET...|  04-06-2024 13:25:00|  Lamborghini|    high_end|       2034|        Kennedy-Peck|90364 Mckinney We...|       Anaheim|   CA|   90784|  2.7708765| 147.034375|\n",
            "|865d13e764|1de51e38f2|ba30d7b587|2024-02-07 00:33:00|2024-02-08 20:33:00|           9810|            4592|       440.0|                 44.0|     1|               5904260| MAMBETALIEV,ULANBEK|FOR HIRE VEHICLE|     17-12-2024|             FG6UND5O|        2015-07-29|        2015|        (646)780-0129|1515 THIRD STREET...|  04-06-2024 13:25:00|        Honda|       basic|       9810|Price, Smith and ...|79626 Rogers Fort...|    Santa Rosa|   CA|   94956| -43.387246|-159.333074|\n",
            "|9ed16aa8d1|71e0320a1e|ba30d7b587|2024-01-27 21:28:00|2024-01-28 08:28:00|           6036|            8134|       550.0|                 11.0|     1|               5974068|        ABABIO,KWASI|FOR HIRE VEHICLE|     18-06-2025|             ZHQYV8Z6|        2017-06-01|        2017|        (646)780-0129|1515 THIRD STREET...|  04-06-2024 13:25:00|  Lamborghini|    high_end|       6036|        Hines-Murphy|556 Jennifer Exte...|     Oceanside|   CA|   91986|-62.9513875| 166.631653|\n",
            "|baf3063ee1|718c4e5744|d8dc1e8ac2|2024-03-17 05:58:00|2024-03-17 09:58:00|           5889|            1171|        40.0|                  4.0|     1|               5552792|PPS,LUXURY,TRANSP...|FOR HIRE VEHICLE|     30-06-2024|             GJ204XPJ|        2023-05-30|        2023|        (718)433-7697|111-15A ROOSEVELT...|  04-06-2024 13:25:00|       Toyota|       basic|       5889|        Bailey-Small|   992 Michelle Ford|    Sacramento|   CA|   90801|-88.3952525|   -65.1065|\n",
            "|920af4633d|1aaf30c8e2|fcd7cd0194|2024-03-17 05:33:00|2024-03-19 07:33:00|           2981|            3466|       500.0|                 50.0|     1|               5055031|DIAZ,AQUILES,DOMINGO|FOR HIRE VEHICLE|     25-08-2024|             BFY55Z9T|        2012-10-18|        2012|        (929)400-3838|1161 SOUTHERN BOU...|  04-06-2024 13:25:00|    Chevrolet|       basic|       2981|Nunez, Garcia and...|    136 Guerrero Way| San Francisco|   CA|   92897|-76.6533145| 105.547676|\n",
            "|b0ded475a2|01ff605c68|0eff4a723e|2024-03-30 03:30:00|2024-03-30 18:30:00|           2620|            2794|       150.0|                 15.0|     1|               5678646|   MAJUMDER,JAHANGIR|FOR HIRE VEHICLE|     11-02-2026|             OYKSWQ3M|        2023-03-29|        2023|        (646)780-0129|1515 THIRD STREET...|  04-06-2024 13:25:00|         Ford|       basic|       2620|Carlson, Griffith...|   311 Mckinney Port|     Escondido|   CA|   90446| -64.648068|   91.52816|\n",
            "|c4b821a7eb|bc6c8fa738|a764243e14|2024-01-07 10:49:00|2024-01-10 07:49:00|           1761|            4591|      3450.0|                 69.0|     1|               5895610|LUX,CREDIT,CONSUL...|FOR HIRE VEHICLE|     29-10-2024|             1R1CBA4Z|        2023-04-04|        2023|        (646)780-0129|1515 THIRD STREET...|  04-06-2024 13:25:00|      Porsche|    high_end|       1761|         Collins LLC|09686 James Cliff...|        Irvine|   CA|   95993|-58.9146665|  74.578069|\n",
            "|0d52304987|b139d8e1b2|320be8068b|2024-02-28 08:05:00|2024-03-01 05:05:00|           1497|            6785|       450.0|                 45.0|     1|               5895794|   SHAHITHAKURI,ANIL|FOR HIRE VEHICLE|     01-10-2024|             R4JE2Y7S|        2015-04-06|        2015|        (646)780-0129|1515 THIRD STREET...|  04-06-2024 13:25:00|       Nissan|       basic|       1497|           Terry Inc|   40402 Jones Haven|        Pomona|   CA|   93146| -21.816193|   89.69813|\n",
            "|32d58ea4b7|acc192b64a|8f31b734a6|2024-03-06 18:19:00|2024-03-09 14:19:00|           6290|            8932|      1360.0|                 68.0|     1|               5781197|  BQB AUTO GROUP INC|FOR HIRE VEHICLE|     27-04-2025|             9PQI2QKP|        2018-08-11|        2018|        (646)780-0129|1515 THIRD STREET...|  04-06-2024 13:25:00|          BMW|     premium|       6290|Johnson, Harrell ...|861 Kelly Way Apt...|     Oceanside|   CA|   90905| 28.4079985|-128.724818|\n",
            "|43d773a69c|7284831f00|02bd398e38|2024-05-20 12:43:00|2024-05-23 00:43:00|           6609|            6920|      1200.0|                 60.0|     1|               5742774|      GURUNG,HIRALAL|FOR HIRE VEHICLE|     21-11-2024|             4JSX09P1|        2022-01-02|        2022|        (646)780-0129|1515 THIRD STREET...|  04-06-2024 13:25:00|Mercedes-Benz|     premium|       6609|         Stewart Inc|433 Joseph Mews S...|San Bernardino|   CA|   96003| -86.849432|  95.363893|\n",
            "|93bb80e1fd|e0c26af9ff|a764243e14|2024-03-11 08:48:00|2024-03-12 09:48:00|           2815|            8147|       250.0|                 25.0|     1|               5598505|            REAM,INC|FOR HIRE VEHICLE|     17-03-2025|             D7UEPYSX|        2018-03-01|        2018|        (646)780-0129|1515 THIRD STREET...|  04-06-2024 13:25:00|       Toyota|       basic|       2815|Barnes, Foley and...|008 James Traffic...|      Palmdale|   CA|   94452|   3.357019|  59.962331|\n",
            "|975d72985c|7afd60f6d3|320be8068b|2024-01-07 20:16:00|2024-01-09 21:16:00|           5345|            2608|      2450.0|                 49.0|     1|               6017744|    IBRAGIMOV,BEKZOD|FOR HIRE VEHICLE|     08-02-2025|             4D5VSCKU|        2023-10-16|        2023|        (646)780-0129|1515 THIRD STREET...|  04-06-2024 13:25:00|      Porsche|    high_end|       5345|            Hill Ltd|4330 Charles Skyw...|     Lancaster|   CA|   93820| 44.7644055| -80.739739|\n",
            "|a2682ea246|699352c857|d1eec018e1|2024-01-21 20:06:00|2024-01-22 02:06:00|           5984|            5345|        60.0|                  6.0|     1|               5735791|AMERICAN,UNITED,T...|FOR HIRE VEHICLE|     03-11-2024|             XGBEUP4Q|        2017-05-12|        2017|        (646)780-0129|1515 THIRD STREET...|  04-06-2024 13:25:00|    Chevrolet|       basic|       5984|Huang, Owens and ...|317 Thomas Island...|       Ontario|   CA|   95177|  -10.78292| 106.422836|\n",
            "|fb34939ff6|7d05f05066|f187b2017e|2024-03-22 17:27:00|2024-03-25 00:27:00|           5166|            2863|       550.0|                 55.0|     0|               5820367|        WEI, HAOYONG|FOR HIRE VEHICLE|     13-10-2025|             7OH71GZI|        2017-03-24|        2017|        (646)780-0129|1515 THIRD STREET...|  04-06-2024 13:25:00|       Toyota|       basic|       5166|Romero, Howard an...|94092 Taylor Orchard|   Chula Vista|   CA|   93401|  -88.09557| 158.293097|\n",
            "|967fdab45e|6e546b69dd|8f31b734a6|2024-01-05 11:30:00|2024-01-07 04:30:00|           8147|            4380|      2050.0|                 41.0|     1|               5603300|LINDA TRANSPORTAT...|FOR HIRE VEHICLE|     17-03-2025|             AVUXDQZQ|        2022-11-08|        2022|        (646)780-0129|1515 THIRD STREET...|  04-06-2024 13:25:00|      Porsche|    high_end|       8147|Campbell, Ford an...|96150 Christopher...|    Long Beach|   CA|   91950| -29.264438| 131.462947|\n",
            "|ca48f1fdc6|bfd00885b1|0eff4a723e|2024-04-10 15:30:00|2024-04-13 01:30:00|           2238|            3057|       580.0|                 58.0|     1|               5892425| NIKITIN,ALEKSANDR,G|FOR HIRE VEHICLE|     06-09-2024|             HQSL8SQT|        2023-01-14|        2023|        (646)780-0129|1515 THIRD STREET...|  04-06-2024 13:25:00|       Toyota|       basic|       2238|    Cantrell-Bennett|1898 Hunt Ford Su...| Thousand Oaks|   CA|   96032| -36.444029|  23.198213|\n",
            "|08a01888dd|95c8527d0b|52da2439c8|2024-02-14 21:53:00|2024-02-17 02:53:00|           9536|            4922|      1060.0|                 53.0|     1|               5893397|    MOMI,GAGANDEEP,S|FOR HIRE VEHICLE|     02-10-2024|             HSIPX80O|        2020-04-15|        2020|        (646)780-0129|1515 THIRD STREET...|  04-06-2024 13:25:00|Mercedes-Benz|     premium|       9536|           Brown Ltd|800 Peters Mounta...|        Irvine|   CA|   91019|  17.835358|  93.621048|\n",
            "|f1505fed87|26babaa7a5|02bd398e38|2024-05-13 04:07:00|2024-05-14 10:07:00|           3561|            8597|      1500.0|                 30.0|     1|               6058071|   MARTINEZNUNEZ,R,R|FOR HIRE VEHICLE|     26-01-2026|             K79L1G4C|        2022-02-09|        2022|        (415)475-8459|441    9 AVENUE 2...|  04-06-2024 13:25:00|      Ferrari|    high_end|       3561|        Thomas-Bauer|26867 Mary Expres...|       Hayward|   CA|   96092|  -72.72931|  56.208901|\n",
            "+----------+----------+----------+-------------------+-------------------+---------------+----------------+------------+---------------------+------+----------------------+--------------------+----------------+---------------+---------------------+------------------+------------+---------------------+--------------------+---------------------+-------------+------------+-----------+--------------------+--------------------+--------------+-----+--------+-----------+-----------+\n",
            "only showing top 20 rows\n",
            "\n"
          ]
        }
      ],
      "source": [
        "rental_vehicle_location_df = rental_vehicle_df.join(\n",
        "    locations, rental_vehicle_df[\"pickup_location\"] == locations[\"location_id\"], \"left\"\n",
        ")\n",
        "\n",
        "# Show results\n",
        "rental_vehicle_location_df.show()"
      ]
    },
    {
      "cell_type": "code",
      "execution_count": 19,
      "metadata": {
        "colab": {
          "base_uri": "https://localhost:8080/"
        },
        "id": "PyJKTNiHfSo6",
        "outputId": "e85d1d7f-0862-4502-efb3-47dfd88a132c"
      },
      "outputs": [
        {
          "name": "stdout",
          "output_type": "stream",
          "text": [
            "+-----------+--------------------+-------------+\n",
            "|location_id|       location_name|total_revenue|\n",
            "+-----------+--------------------+-------------+\n",
            "|       1959|           Lopez Inc|      58090.0|\n",
            "|       8928|Phelps, Robinson ...|      43470.0|\n",
            "|       1507|Smith, Alexander ...|      57120.0|\n",
            "|       8932|Costa, Whitaker a...|      53890.0|\n",
            "|       9182|         Montoya Inc|      63900.0|\n",
            "|       4219|         Campos-Cook|      36170.0|\n",
            "|       5345|            Hill Ltd|      64980.0|\n",
            "|       5984|Huang, Owens and ...|      65260.0|\n",
            "|       9558|       Castro-Larsen|      47840.0|\n",
            "|       8779|          Mora-Young|      57000.0|\n",
            "|       3561|        Thomas-Bauer|      51510.0|\n",
            "|       3028|          Meyer-Hahn|      59170.0|\n",
            "|       2238|    Cantrell-Bennett|      51580.0|\n",
            "|       8627|       Mendez-Harris|      44450.0|\n",
            "|       9488|Soto, White and J...|      50470.0|\n",
            "|       2294|Kelly, Gonzales a...|      32180.0|\n",
            "|       1745|       Black-Solomon|      49190.0|\n",
            "|       4865|            Roy-Lowe|      57080.0|\n",
            "|       4683|Williams, Mullins...|      50820.0|\n",
            "|       8001|        Klein-Bailey|      46700.0|\n",
            "+-----------+--------------------+-------------+\n",
            "only showing top 20 rows\n",
            "\n"
          ]
        }
      ],
      "source": [
        "revenue_per_location = rental.groupBy(\"pickup_location\").agg(\n",
        "    sum(\"total_amount\").alias(\"total_revenue\")\n",
        ").join(\n",
        "    locations, rental[\"pickup_location\"] == locations[\"location_id\"], \"left\"\n",
        ").select(\n",
        "    col(\"location_id\"),\n",
        "    col(\"location_name\"),\n",
        "    col(\"total_revenue\")\n",
        ")\n",
        "\n",
        "# Show results\n",
        "revenue_per_location.show()"
      ]
    },
    {
      "cell_type": "code",
      "execution_count": 20,
      "metadata": {
        "colab": {
          "base_uri": "https://localhost:8080/"
        },
        "id": "HEhxcbiKfj6q",
        "outputId": "be15b4f4-2ecf-491c-ffef-199689e2b2ac"
      },
      "outputs": [
        {
          "name": "stdout",
          "output_type": "stream",
          "text": [
            "+-----------+--------------------+------------------+\n",
            "|location_id|       location_name|total_transactions|\n",
            "+-----------+--------------------+------------------+\n",
            "|       1959|           Lopez Inc|                69|\n",
            "|       8928|Phelps, Robinson ...|                66|\n",
            "|       1507|Smith, Alexander ...|                77|\n",
            "|       8932|Costa, Whitaker a...|                65|\n",
            "|       9182|         Montoya Inc|                75|\n",
            "|       4219|         Campos-Cook|                56|\n",
            "|       5345|            Hill Ltd|                81|\n",
            "|       5984|Huang, Owens and ...|                84|\n",
            "|       9558|       Castro-Larsen|                60|\n",
            "|       8779|          Mora-Young|                76|\n",
            "|       3561|        Thomas-Bauer|                66|\n",
            "|       3028|          Meyer-Hahn|                77|\n",
            "|       2238|    Cantrell-Bennett|                54|\n",
            "|       8627|       Mendez-Harris|                66|\n",
            "|       9488|Soto, White and J...|                72|\n",
            "|       2294|Kelly, Gonzales a...|                52|\n",
            "|       1745|       Black-Solomon|                73|\n",
            "|       4865|            Roy-Lowe|                71|\n",
            "|       4683|Williams, Mullins...|                74|\n",
            "|       8001|        Klein-Bailey|                63|\n",
            "+-----------+--------------------+------------------+\n",
            "only showing top 20 rows\n",
            "\n"
          ]
        }
      ],
      "source": [
        "# Compute total transactions per location (pickup_location)\n",
        "transactions_per_location = rental.groupBy(\"pickup_location\").agg(\n",
        "    count(\"rental_id\").alias(\"total_transactions\")\n",
        ").join(\n",
        "    locations, rental[\"pickup_location\"] == locations[\"location_id\"], \"left\"\n",
        ").select(\n",
        "    col(\"location_id\"),\n",
        "    col(\"location_name\"),\n",
        "    col(\"total_transactions\")\n",
        ")\n",
        "\n",
        "# Show results\n",
        "transactions_per_location.show()"
      ]
    },
    {
      "cell_type": "code",
      "execution_count": 21,
      "metadata": {
        "colab": {
          "base_uri": "https://localhost:8080/"
        },
        "id": "JVAHEhlvf3S3",
        "outputId": "44c4a963-be8e-412b-9aed-895e088d2580"
      },
      "outputs": [
        {
          "name": "stdout",
          "output_type": "stream",
          "text": [
            "+-----------+--------------------+----------------------+\n",
            "|location_id|       location_name|avg_transaction_amount|\n",
            "+-----------+--------------------+----------------------+\n",
            "|       1959|           Lopez Inc|     841.8840579710145|\n",
            "|       8928|Phelps, Robinson ...|     658.6363636363636|\n",
            "|       1507|Smith, Alexander ...|     741.8181818181819|\n",
            "|       8932|Costa, Whitaker a...|     829.0769230769231|\n",
            "|       9182|         Montoya Inc|                 852.0|\n",
            "|       4219|         Campos-Cook|     645.8928571428571|\n",
            "|       5345|            Hill Ltd|     802.2222222222222|\n",
            "|       5984|Huang, Owens and ...|     776.9047619047619|\n",
            "|       9558|       Castro-Larsen|     797.3333333333334|\n",
            "|       8779|          Mora-Young|                 750.0|\n",
            "|       3561|        Thomas-Bauer|     780.4545454545455|\n",
            "|       3028|          Meyer-Hahn|     768.4415584415584|\n",
            "|       2238|    Cantrell-Bennett|     955.1851851851852|\n",
            "|       8627|       Mendez-Harris|     673.4848484848485|\n",
            "|       9488|Soto, White and J...|     700.9722222222222|\n",
            "|       2294|Kelly, Gonzales a...|     618.8461538461538|\n",
            "|       1745|       Black-Solomon|     673.8356164383562|\n",
            "|       4865|            Roy-Lowe|      803.943661971831|\n",
            "|       4683|Williams, Mullins...|     686.7567567567568|\n",
            "|       8001|        Klein-Bailey|     741.2698412698413|\n",
            "+-----------+--------------------+----------------------+\n",
            "only showing top 20 rows\n",
            "\n"
          ]
        }
      ],
      "source": [
        "# Compute average transaction amount per location (pickup_location)\n",
        "avg_transaction_per_location = rental.groupBy(\"pickup_location\").agg(\n",
        "    avg(\"total_amount\").alias(\"avg_transaction_amount\")\n",
        ").join(\n",
        "    locations, rental[\"pickup_location\"] == locations[\"location_id\"], \"left\"\n",
        ").select(\n",
        "    col(\"location_id\"),\n",
        "    col(\"location_name\"),\n",
        "    col(\"avg_transaction_amount\")\n",
        ")\n",
        "\n",
        "# Show results\n",
        "avg_transaction_per_location.show()"
      ]
    },
    {
      "cell_type": "code",
      "execution_count": 22,
      "metadata": {
        "colab": {
          "base_uri": "https://localhost:8080/"
        },
        "id": "CTBUZ6s4gDAK",
        "outputId": "c7a476b4-58db-49ed-9e3b-da34904978b5"
      },
      "outputs": [
        {
          "name": "stdout",
          "output_type": "stream",
          "text": [
            "+-----------+--------------------+----------------------+----------------------+\n",
            "|location_id|       location_name|max_transaction_amount|min_transaction_amount|\n",
            "+-----------+--------------------+----------------------+----------------------+\n",
            "|       1959|           Lopez Inc|                3600.0|                  60.0|\n",
            "|       8928|Phelps, Robinson ...|                3200.0|                  30.0|\n",
            "|       1507|Smith, Alexander ...|                3250.0|                  40.0|\n",
            "|       8932|Costa, Whitaker a...|                3500.0|                  40.0|\n",
            "|       9182|         Montoya Inc|                3450.0|                  20.0|\n",
            "|       4219|         Campos-Cook|                3050.0|                  20.0|\n",
            "|       5345|            Hill Ltd|                3400.0|                  10.0|\n",
            "|       5984|Huang, Owens and ...|                3350.0|                  10.0|\n",
            "|       9558|       Castro-Larsen|                3250.0|                  30.0|\n",
            "|       8779|          Mora-Young|                3500.0|                  30.0|\n",
            "|       3561|        Thomas-Bauer|                3100.0|                  30.0|\n",
            "|       3028|          Meyer-Hahn|                3400.0|                  20.0|\n",
            "|       2238|    Cantrell-Bennett|                3600.0|                  30.0|\n",
            "|       8627|       Mendez-Harris|                3100.0|                  10.0|\n",
            "|       9488|Soto, White and J...|                3100.0|                  40.0|\n",
            "|       2294|Kelly, Gonzales a...|                2600.0|                  10.0|\n",
            "|       1745|       Black-Solomon|                2850.0|                  20.0|\n",
            "|       4865|            Roy-Lowe|                3250.0|                  10.0|\n",
            "|       4683|Williams, Mullins...|                3600.0|                  40.0|\n",
            "|       8001|        Klein-Bailey|                3100.0|                  20.0|\n",
            "+-----------+--------------------+----------------------+----------------------+\n",
            "only showing top 20 rows\n",
            "\n"
          ]
        }
      ],
      "source": [
        "# Compute max and min transaction amount per location (pickup_location)\n",
        "max_min_transaction_per_location = rental.groupBy(\"pickup_location\").agg(\n",
        "    max(\"total_amount\").alias(\"max_transaction_amount\"),\n",
        "    min(\"total_amount\").alias(\"min_transaction_amount\")\n",
        ").join(\n",
        "    locations, rental[\"pickup_location\"] == locations[\"location_id\"], \"left\"\n",
        ").select(\n",
        "    col(\"location_id\"),\n",
        "    col(\"location_name\"),\n",
        "    col(\"max_transaction_amount\"),\n",
        "    col(\"min_transaction_amount\")\n",
        ")\n",
        "\n",
        "# Show results\n",
        "max_min_transaction_per_location.show()"
      ]
    },
    {
      "cell_type": "code",
      "execution_count": 23,
      "metadata": {
        "colab": {
          "base_uri": "https://localhost:8080/"
        },
        "id": "5e1ZJavxgOxM",
        "outputId": "897369d4-cfa9-4b1d-80ae-4ffbc06e8727"
      },
      "outputs": [
        {
          "name": "stdout",
          "output_type": "stream",
          "text": [
            "+-----------+--------------------+--------------------+\n",
            "|location_id|       location_name|unique_vehicles_used|\n",
            "+-----------+--------------------+--------------------+\n",
            "|       1959|           Lopez Inc|                  69|\n",
            "|       8928|Phelps, Robinson ...|                  66|\n",
            "|       9182|         Montoya Inc|                  75|\n",
            "|       8932|Costa, Whitaker a...|                  65|\n",
            "|       1507|Smith, Alexander ...|                  77|\n",
            "|       4219|         Campos-Cook|                  56|\n",
            "|       5345|            Hill Ltd|                  81|\n",
            "|       9558|       Castro-Larsen|                  59|\n",
            "|       5984|Huang, Owens and ...|                  84|\n",
            "|       8779|          Mora-Young|                  76|\n",
            "|       3561|        Thomas-Bauer|                  66|\n",
            "|       3028|          Meyer-Hahn|                  77|\n",
            "|       2238|    Cantrell-Bennett|                  54|\n",
            "|       8627|       Mendez-Harris|                  66|\n",
            "|       9488|Soto, White and J...|                  72|\n",
            "|       2294|Kelly, Gonzales a...|                  52|\n",
            "|       4683|Williams, Mullins...|                  74|\n",
            "|       1745|       Black-Solomon|                  73|\n",
            "|       4865|            Roy-Lowe|                  71|\n",
            "|       2484|      Jones and Sons|                  72|\n",
            "+-----------+--------------------+--------------------+\n",
            "only showing top 20 rows\n",
            "\n"
          ]
        }
      ],
      "source": [
        "# Compute unique vehicles used per location (pickup_location)\n",
        "unique_vehicles_per_location = rental.groupBy(\"pickup_location\").agg(\n",
        "    countDistinct(\"vehicle_id\").alias(\"unique_vehicles_used\")\n",
        ").join(\n",
        "    locations, rental[\"pickup_location\"] == locations[\"location_id\"], \"left\"\n",
        ").select(\n",
        "    col(\"location_id\"),\n",
        "    col(\"location_name\"),\n",
        "    col(\"unique_vehicles_used\")\n",
        ")\n",
        "\n",
        "# Show results\n",
        "unique_vehicles_per_location.show()"
      ]
    },
    {
      "cell_type": "code",
      "execution_count": 24,
      "metadata": {
        "colab": {
          "base_uri": "https://localhost:8080/"
        },
        "id": "DjcHugaFgZiu",
        "outputId": "b6c22748-92e6-4adc-afd7-579930ab24b6"
      },
      "outputs": [
        {
          "name": "stdout",
          "output_type": "stream",
          "text": [
            "+------------+-------------------+-------------------+-------------------+---------------------+\n",
            "|vehicle_type|avg_rental_duration|max_rental_duration|min_rental_duration|total_rental_duration|\n",
            "+------------+-------------------+-------------------+-------------------+---------------------+\n",
            "|    high_end| 36.900498753117205|               72.0|                1.0|             147971.0|\n",
            "|       basic|  36.59878955995461|               72.0|                1.0|             290265.0|\n",
            "|     premium|  36.24167588155793|               72.0|                1.0|             294971.0|\n",
            "+------------+-------------------+-------------------+-------------------+---------------------+\n",
            "\n"
          ]
        }
      ],
      "source": [
        "rental_duration_metrics_by_vehicle_type = rental_vehicle_df.groupBy(\"vehicle_type\").agg(\n",
        "    avg(\"rental_duration_hours\").alias(\"avg_rental_duration\"),\n",
        "    max(\"rental_duration_hours\").alias(\"max_rental_duration\"),\n",
        "    min(\"rental_duration_hours\").alias(\"min_rental_duration\"),\n",
        "    sum(\"rental_duration_hours\").alias(\"total_rental_duration\")\n",
        ")\n",
        "\n",
        "# Show results\n",
        "rental_duration_metrics_by_vehicle_type.show()"
      ]
    },
    {
      "cell_type": "code",
      "execution_count": null,
      "metadata": {},
      "outputs": [],
      "source": []
    }
  ],
  "metadata": {
    "colab": {
      "provenance": []
    },
    "kernelspec": {
      "display_name": "venv",
      "language": "python",
      "name": "python3"
    },
    "language_info": {
      "codemirror_mode": {
        "name": "ipython",
        "version": 3
      },
      "file_extension": ".py",
      "mimetype": "text/x-python",
      "name": "python",
      "nbconvert_exporter": "python",
      "pygments_lexer": "ipython3",
      "version": "3.12.3"
    }
  },
  "nbformat": 4,
  "nbformat_minor": 0
}
